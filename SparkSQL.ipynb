{
 "cells": [
  {
   "cell_type": "code",
   "execution_count": 16,
   "id": "80824b49",
   "metadata": {},
   "outputs": [],
   "source": [
    "from pyspark.sql import SparkSession\n",
    "from pyspark.sql.functions import col, desc"
   ]
  },
  {
   "cell_type": "code",
   "execution_count": 2,
   "id": "c79bdc7d",
   "metadata": {},
   "outputs": [],
   "source": [
    "#to create the session\n",
    "spark = SparkSession.builder.appName(\"sparksql\").getOrCreate()"
   ]
  },
  {
   "cell_type": "code",
   "execution_count": 3,
   "id": "40b480ec",
   "metadata": {},
   "outputs": [
    {
     "name": "stdout",
     "output_type": "stream",
     "text": [
      "3.4.1\n"
     ]
    }
   ],
   "source": [
    "print(spark.version)"
   ]
  },
  {
   "cell_type": "code",
   "execution_count": 8,
   "id": "ced807ce",
   "metadata": {},
   "outputs": [],
   "source": [
    "#Creating dataframe using csv in which we are telling header is present infer the schema. Provide the path and then load.\n",
    "data=spark.read.format(\"csv\").\\\n",
    "option('inferschema', 'true').\\\n",
    "option('header', 'true').\\\n",
    "option('path','operations_management.csv').\\\n",
    "load()"
   ]
  },
  {
   "cell_type": "code",
   "execution_count": 9,
   "id": "dd4389f6",
   "metadata": {},
   "outputs": [
    {
     "name": "stdout",
     "output_type": "stream",
     "text": [
      "root\n",
      " |-- description: string (nullable = true)\n",
      " |-- industry: string (nullable = true)\n",
      " |-- level: integer (nullable = true)\n",
      " |-- size: string (nullable = true)\n",
      " |-- line_code: string (nullable = true)\n",
      " |-- value: integer (nullable = true)\n",
      "\n"
     ]
    }
   ],
   "source": [
    "data.printSchema()"
   ]
  },
  {
   "cell_type": "code",
   "execution_count": 17,
   "id": "1c57b656",
   "metadata": {},
   "outputs": [],
   "source": [
    "#Lazy evaluation thtas why haven't print anything until action is called\n",
    "data_2 = data.select(\"industry\",\"value\").\\\n",
    "filter(col(\"value\")>10000).\\\n",
    "orderBy(desc(\"value\"))"
   ]
  },
  {
   "cell_type": "code",
   "execution_count": 18,
   "id": "3490298b",
   "metadata": {},
   "outputs": [
    {
     "name": "stdout",
     "output_type": "stream",
     "text": [
      "root\n",
      " |-- industry: string (nullable = true)\n",
      " |-- value: integer (nullable = true)\n",
      "\n"
     ]
    }
   ],
   "source": [
    "#print the schema\n",
    "data_2.printSchema()"
   ]
  },
  {
   "cell_type": "code",
   "execution_count": 19,
   "id": "9cc1eb31",
   "metadata": {},
   "outputs": [
    {
     "name": "stdout",
     "output_type": "stream",
     "text": [
      "+--------+-----+\n",
      "|industry|value|\n",
      "+--------+-----+\n",
      "|   total|41091|\n",
      "|   total|40431|\n",
      "|   total|33984|\n",
      "|   total|33750|\n",
      "|   total|32652|\n",
      "|   total|31134|\n",
      "|   total|30624|\n",
      "|   total|30543|\n",
      "|   total|30396|\n",
      "|   total|30099|\n",
      "|   total|29994|\n",
      "|   total|29775|\n",
      "|   total|28473|\n",
      "|   total|27846|\n",
      "|   total|26010|\n",
      "|   total|25977|\n",
      "|   total|25887|\n",
      "|   total|25500|\n",
      "|   total|25434|\n",
      "|   total|25221|\n",
      "+--------+-----+\n",
      "only showing top 20 rows\n",
      "\n"
     ]
    }
   ],
   "source": [
    "data_2.show()"
   ]
  },
  {
   "cell_type": "code",
   "execution_count": 28,
   "id": "da1428d5",
   "metadata": {},
   "outputs": [],
   "source": [
    "#Action to show only 5 enteries\n",
    "data_2.show(5)"
   ]
  },
  {
   "cell_type": "code",
   "execution_count": 34,
   "id": "fed9fa39",
   "metadata": {},
   "outputs": [],
   "source": [
    "# use dataframe and API  for Transformation\n",
    "#filter on two column and order by values\n",
    "data_2 = data.select(\"industry\",\"value\").\\\n",
    "filter((col(\"value\")>200) & (col(\"industry\")!=\"total\")).\\\n",
    "orderBy(desc(\"value\"))"
   ]
  },
  {
   "cell_type": "code",
   "execution_count": 27,
   "id": "8cfec907",
   "metadata": {},
   "outputs": [
    {
     "name": "stdout",
     "output_type": "stream",
     "text": [
      "+--------------------+-----+\n",
      "|            industry|value|\n",
      "+--------------------+-----+\n",
      "|        Construction| 6030|\n",
      "|        Construction| 5904|\n",
      "|        Construction| 5229|\n",
      "|Accommodation & f...| 5058|\n",
      "|        Construction| 4965|\n",
      "|        Construction| 4959|\n",
      "|Accommodation & f...| 4950|\n",
      "|        Construction| 4686|\n",
      "|        Construction| 4668|\n",
      "|        Construction| 4665|\n",
      "|       Manufacturing| 4662|\n",
      "|       Manufacturing| 4632|\n",
      "|        Construction| 4575|\n",
      "|        Construction| 4566|\n",
      "|Professional, sci...| 4476|\n",
      "|Professional, sci...| 4470|\n",
      "|        Retail trade| 4434|\n",
      "|        Retail trade| 4434|\n",
      "|Accommodation & f...| 4251|\n",
      "|Accommodation & f...| 4176|\n",
      "+--------------------+-----+\n",
      "only showing top 20 rows\n",
      "\n"
     ]
    }
   ],
   "source": [
    "data_2.show()"
   ]
  },
  {
   "cell_type": "code",
   "execution_count": 30,
   "id": "9676d6f0",
   "metadata": {},
   "outputs": [],
   "source": [
    "#create temp table --data\n",
    "data_2.createOrReplaceTempView(\"data\")\n",
    "#createOrReplaceTempView--cretae if noot exist and if exist then replace"
   ]
  },
  {
   "cell_type": "code",
   "execution_count": 33,
   "id": "6fe9599e",
   "metadata": {},
   "outputs": [],
   "source": [
    "#2nd method using spark sql\n",
    "spark.sql(\"\"\"select industry, value FROM data WHERE value>20 AND industry != \"total\" \"\"\").show(5)"
   ]
  },
  {
   "cell_type": "code",
   "execution_count": null,
   "id": "7d78d9af",
   "metadata": {},
   "outputs": [],
   "source": []
  }
 ],
 "metadata": {
  "kernelspec": {
   "display_name": "Python 3 (ipykernel)",
   "language": "python",
   "name": "python3"
  },
  "language_info": {
   "codemirror_mode": {
    "name": "ipython",
    "version": 3
   },
   "file_extension": ".py",
   "mimetype": "text/x-python",
   "name": "python",
   "nbconvert_exporter": "python",
   "pygments_lexer": "ipython3",
   "version": "3.11.3"
  }
 },
 "nbformat": 4,
 "nbformat_minor": 5
}
